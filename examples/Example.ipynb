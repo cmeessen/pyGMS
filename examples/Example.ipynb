{
 "cells": [
  {
   "cell_type": "markdown",
   "metadata": {},
   "source": [
    "# pyGMS example"
   ]
  },
  {
   "cell_type": "code",
   "execution_count": null,
   "metadata": {},
   "outputs": [],
   "source": [
    "%load_ext autoreload\n",
    "%autoreload 2\n",
    "from pyGMS import GMS\n",
    "import matplotlib.pyplot as plt\n",
    "from matplotlib import tri\n",
    "import numpy as np\n",
    "%matplotlib inline"
   ]
  },
  {
   "cell_type": "markdown",
   "metadata": {},
   "source": [
    "## Load a model"
   ]
  },
  {
   "cell_type": "code",
   "execution_count": null,
   "metadata": {},
   "outputs": [],
   "source": [
    "model = GMS('./model.fem')"
   ]
  },
  {
   "cell_type": "code",
   "execution_count": null,
   "metadata": {},
   "outputs": [],
   "source": [
    "model.info"
   ]
  },
  {
   "cell_type": "code",
   "execution_count": null,
   "metadata": {},
   "outputs": [],
   "source": [
    "model.plot_topography()"
   ]
  },
  {
   "cell_type": "markdown",
   "metadata": {},
   "source": [
    "## Load variables"
   ]
  },
  {
   "cell_type": "markdown",
   "metadata": {},
   "source": [
    "The variables names are stored in the `field_dict`. They need to be added individually\n",
    "so that they can be used for analysis."
   ]
  },
  {
   "cell_type": "code",
   "execution_count": null,
   "metadata": {},
   "outputs": [],
   "source": [
    "model.field_dict.keys()"
   ]
  },
  {
   "cell_type": "code",
   "execution_count": null,
   "metadata": {},
   "outputs": [],
   "source": [
    "model.layer_add_var('T')"
   ]
  },
  {
   "cell_type": "markdown",
   "metadata": {},
   "source": [
    "# Visualisation"
   ]
  },
  {
   "cell_type": "code",
   "execution_count": null,
   "metadata": {},
   "outputs": [],
   "source": [
    "x0 = 200e3\n",
    "y0 = 7000e3\n",
    "x1 = 1000e3\n",
    "y1 = 7000e3\n",
    "fig, ax = plt.subplots(figsize=(10,4))\n",
    "cm = model.plot_profile(x0, y0, x1, y1, var='T', ax=ax, cmap='plasma')\n",
    "model.plot_layer_bounds(x0, y0, x1, y1, ax=ax)\n",
    "fig.colorbar(cm, ax=ax, label='Temperature / °C')"
   ]
  },
  {
   "cell_type": "code",
   "execution_count": null,
   "metadata": {},
   "outputs": [],
   "source": [
    "fig, ax = plt.subplots(figsize=(10, 4))\n",
    "model.plot_layer_bounds(x0, y0, x1, y1, ax=ax, only='all')\n",
    "model.plot_layer_bounds(x0, y0, x1, y1, ax=ax, only='unique', lc='red', lw=2)"
   ]
  },
  {
   "cell_type": "markdown",
   "metadata": {},
   "source": [
    "# Computations"
   ]
  },
  {
   "cell_type": "markdown",
   "metadata": {},
   "source": [
    "## Thermal field"
   ]
  },
  {
   "cell_type": "markdown",
   "metadata": {},
   "source": [
    "### Surface heat flow"
   ]
  },
  {
   "cell_type": "code",
   "execution_count": null,
   "metadata": {},
   "outputs": [],
   "source": [
    "fig, ax = plt.subplots()\n",
    "ax.set_aspect('equal')\n",
    "cm = model.plot_surface_heat_flow(ax=ax, levels=np.linspace(0, 80, 9))\n",
    "fig.colorbar(cm, ax=ax, label='Surface heat flow / mW/m2');"
   ]
  },
  {
   "cell_type": "markdown",
   "metadata": {},
   "source": [
    "## Rheology"
   ]
  },
  {
   "cell_type": "markdown",
   "metadata": {},
   "source": [
    "Create a list of material properties"
   ]
  },
  {
   "cell_type": "code",
   "execution_count": null,
   "metadata": {},
   "outputs": [],
   "source": [
    "materials = list()\n",
    "\n",
    "materials.append(dict(name='quartzite_wet_2440',\n",
    "        # Byerlee's law\n",
    "        f_f_e=0.75,       # Friction coefficient extension\n",
    "        f_f_c=2.0,        # Friction coefficient compression\n",
    "        f_p=0.35,         # Pore fluid factor\n",
    "        rho_b=2440.0,     # Bulk density\n",
    "        # Dislocation creep\n",
    "        a_p=1e-28,        # Preexponential scaling factor\n",
    "        n=4.0,            # Power law exponent\n",
    "        q_p=223e3))       # Activation energy\n",
    "\n",
    "\n",
    "materials.append(dict(name='quartzite_wet_2800',\n",
    "        # Byerlee's law\n",
    "        f_f_e=0.75,       # Friction coefficient extension\n",
    "        f_f_c=2.0,        # Friction coefficient compression\n",
    "        f_p=0.35,         # Pore fluid factor\n",
    "        rho_b=2800.0,     # Bulk density\n",
    "        # Dislocation creep\n",
    "        a_p=1e-28,        # Preexponential scaling factor\n",
    "        n=4.0,            # Power law exponent\n",
    "        q_p=223e3))       # Activation energy\n",
    "\n",
    "\n",
    "materials.append(dict(name='diabase_dry',\n",
    "        altname='Gabbroid rocks',\n",
    "        # Byerlee's law\n",
    "        f_f_e=0.75,       # Friction coefficient extension\n",
    "        f_f_c=2.0,        # Friction coefficient compression\n",
    "        f_p=0.35,         # Pore fluid factor\n",
    "        rho_b=2800.0,     # Bulk density\n",
    "        # Dislocation creep\n",
    "        a_p=6.31e-20,     # Preexponential scaling factor\n",
    "        n=3.05,           # Power law exponent\n",
    "        q_p=276.0e3))     # Activation energy\n",
    "\n",
    "\n",
    "materials.append(dict(name='plagioclase_wet',\n",
    "        # Byerlee's law\n",
    "        f_f_e=0.75,       # Friction coefficient extension\n",
    "        f_f_c=2.0,        # Friction coefficient compression\n",
    "        f_p=0.35,         # Pore fluid factor\n",
    "        rho_b=3100.0,     # Bulk density\n",
    "        # Dislocation creep\n",
    "        a_p=3.981e-16,    # Preexponential scaling factor\n",
    "        n=3.0,            # Power law exponent\n",
    "        q_p=356e3))       # Activation energy\n",
    "\n",
    "\n",
    "materials.append(dict(name='peridotite_dry',\n",
    "        # Byerlee's law\n",
    "        f_f_e=0.75,       # Friction coefficient extension\n",
    "        f_f_c=2.0,        # Friction coefficient compression\n",
    "        f_p=0.35,         # Pore fluid factor\n",
    "        rho_b=3300.0,     # Bulk density\n",
    "        # Dislocation creep\n",
    "        a_p=5.011e-17,    # Preexponential scaling factor\n",
    "        n=3.5,            # Power law exponent\n",
    "        q_p=535e3,        # Activation energy\n",
    "        # Diffusion creep\n",
    "        a_f=2.570e-11,    # Preexp. scaling factor\n",
    "        q_f=300e3,        # Activation energy\n",
    "        a=0.1e-3,         # Grain size\n",
    "        m=2.5,            # Grain size exponent\n",
    "        # Dorn's law\n",
    "        sigma_d=8.5e9,    # Dorn's law stress\n",
    "        q_d=535e3,        # Dorn's law activation energy\n",
    "        a_d=5.754e11))    # Dorn's law strain rate\n"
   ]
  },
  {
   "cell_type": "markdown",
   "metadata": {},
   "source": [
    "Now assign the properties to the bodies of the model"
   ]
  },
  {
   "cell_type": "code",
   "execution_count": null,
   "metadata": {},
   "outputs": [],
   "source": [
    "body_materials={\n",
    "    'Sediments':'quartzite_wet_2440',\n",
    "    'UpperCrustPampia': 'quartzite_wet_2800',\n",
    "    'UpperCrustRDP': 'diabase_dry',\n",
    "    'LowerCrust':'plagioclase_wet',\n",
    "    'LithMantle': 'peridotite_dry',\n",
    "    'Base':'peridotite_dry'\n",
    "}\n",
    "\n",
    "\n",
    "strain_rate = 1e-16   # 1/s\n",
    "\n",
    "model.set_rheology(strain_rate, materials, body_materials)"
   ]
  },
  {
   "cell_type": "markdown",
   "metadata": {},
   "source": [
    "### Yield strength envelopes"
   ]
  },
  {
   "cell_type": "code",
   "execution_count": null,
   "metadata": {},
   "outputs": [],
   "source": [
    "x = 400e3\n",
    "y = 7400e3\n",
    "loc = (x, y)\n",
    "kwds_fig = {'figsize': (5, 5), 'dpi': 75}\n",
    "model.plot_yse(loc, plot_bodies=True, kwds_fig=kwds_fig);"
   ]
  },
  {
   "cell_type": "code",
   "execution_count": null,
   "metadata": {},
   "outputs": [],
   "source": [
    "model.plot_yse(loc, mode='extension', plot_bodies=True, kwds_fig=kwds_fig);"
   ]
  },
  {
   "cell_type": "markdown",
   "metadata": {},
   "source": [
    "### Yield strength profiles"
   ]
  },
  {
   "cell_type": "code",
   "execution_count": null,
   "metadata": {},
   "outputs": [],
   "source": [
    "fig, ax = plt.subplots(figsize=(10,4))\n",
    "color_levels = np.linspace(-1.4e9, 0, 100)\n",
    "cm = model.plot_strength_profile(x0, y0, x1, y1, ax=ax,\n",
    "                                 levels=color_levels)\n",
    "model.plot_layer_bounds(x0, y0, x1, y1, ax=ax)\n",
    "fig.colorbar(cm, ax=ax, label='Differential stress / Pa');"
   ]
  },
  {
   "cell_type": "markdown",
   "metadata": {},
   "source": [
    "Showing the boundary of the competent layers:"
   ]
  },
  {
   "cell_type": "code",
   "execution_count": null,
   "metadata": {},
   "outputs": [],
   "source": [
    "fig, ax = plt.subplots(figsize=(10,4))\n",
    "kwds_competent = dict(color='yellow')\n",
    "cm = model.plot_strength_profile(x0, y0, x1, y1, ax=ax,\n",
    "                                 levels=color_levels,\n",
    "                                 show_competent=True,\n",
    "                                 competent_kwds=kwds_competent)\n",
    "model.plot_layer_bounds(x0, y0, x1, y1, ax=ax)\n",
    "fig.colorbar(cm, ax=ax, label='Differential stress / Pa');"
   ]
  },
  {
   "cell_type": "markdown",
   "metadata": {},
   "source": [
    "### Integrated strength"
   ]
  },
  {
   "cell_type": "code",
   "execution_count": null,
   "metadata": {},
   "outputs": [],
   "source": [
    "model.compute_integrated_strength()"
   ]
  },
  {
   "cell_type": "code",
   "execution_count": null,
   "metadata": {},
   "outputs": [],
   "source": [
    "strength = model.integrated_strength\n",
    "triangulation = tri.Triangulation(strength[:, 0], strength[:, 1])\n",
    "\n",
    "fig, ax = plt.subplots(figsize=(5,5), dpi=75)\n",
    "ax.set_aspect('equal')\n",
    "cm = ax.tricontourf(triangulation, strength[:, 2])\n",
    "fig.colorbar(cm, label='Integrated strength / Pa m')"
   ]
  },
  {
   "cell_type": "markdown",
   "metadata": {},
   "source": [
    "### Effective elastic thickness"
   ]
  },
  {
   "cell_type": "code",
   "execution_count": null,
   "metadata": {},
   "outputs": [],
   "source": [
    "model.compute_elastic_thickness()\n",
    "nlays, eet = model.elastic_thickness[1e-16]\n",
    "triangulation = tri.Triangulation(eet[:,0], eet[:,1])\n",
    "\n",
    "fig, ax = plt.subplots(1, 2, sharex=True, sharey=True, figsize=(8,7))\n",
    "ax[0].set_aspect('equal')\n",
    "ax[1].set_aspect('equal')\n",
    "cm_eet = ax[0].tricontourf(triangulation, eet[:,2]/1000)\n",
    "cm_nlay = ax[1].tricontourf(triangulation, nlays, cmap='plasma')\n",
    "fig.colorbar(cm_eet, ax=ax[0], orientation='horizontal', label='Effective elastic thickness / km')\n",
    "fig.colorbar(cm_nlay, ax=ax[1], orientation='horizontal', label='Number of decoupled layers')"
   ]
  },
  {
   "cell_type": "markdown",
   "metadata": {},
   "source": [
    "### Brittle-ductile transition"
   ]
  },
  {
   "cell_type": "code",
   "execution_count": null,
   "metadata": {},
   "outputs": [],
   "source": [
    "model.compute_bd_thickness()"
   ]
  },
  {
   "cell_type": "code",
   "execution_count": null,
   "metadata": {},
   "outputs": [],
   "source": [
    "x = model.t_brittle[0]/1000\n",
    "y = model.t_brittle[1]/1000\n",
    "ts = model.t_brittle[2]"
   ]
  },
  {
   "cell_type": "code",
   "execution_count": null,
   "metadata": {},
   "outputs": [],
   "source": [
    "triangles = tri.Triangulation(x, y)\n",
    "\n",
    "fig, axes = plt.subplots(1, len(ts.keys()) - 1,\n",
    "                         sharex=True, sharey=True,\n",
    "                         figsize=(15,6))\n",
    "i = 0\n",
    "for layer_id in ts:\n",
    "    if layer_id == model.n_layers - 1:\n",
    "        break\n",
    "    layer_name = model.layer_dict[layer_id]\n",
    "    ax = axes[i]\n",
    "    ax.set_aspect('equal')\n",
    "    cm = ax.tricontourf(triangles, ts[layer_id]/1000)\n",
    "    ax.set_title(layer_name)\n",
    "    fig.colorbar(cm, ax=ax, orientation='horizontal', aspect=10, label='km')\n",
    "    i += 1\n",
    "fig.suptitle('Brittle thicknesses', fontweight='bold', fontsize='x-large')"
   ]
  },
  {
   "cell_type": "markdown",
   "metadata": {},
   "source": [
    "# Wells"
   ]
  },
  {
   "cell_type": "code",
   "execution_count": null,
   "metadata": {},
   "outputs": [],
   "source": [
    "well = model.get_well(600e3, 7000e3, 'T', store=False)\n",
    "fig, ax = plt.subplots(figsize=(3,6))\n",
    "ax2 = ax.twiny()\n",
    "well.plot_var('T', ax=ax)\n",
    "well.plot_grad('T', scale=-1000, ax=ax2, color='red')\n",
    "ax.legend()\n",
    "ax2.legend()\n",
    "ax.set_xlabel('Temperature / °C')\n",
    "ax.set_ylabel('Elevation / m')\n",
    "ax2.set_xlabel('grad(T) / °C/km')"
   ]
  },
  {
   "cell_type": "code",
   "execution_count": null,
   "metadata": {},
   "outputs": [],
   "source": []
  }
 ],
 "metadata": {
  "kernelspec": {
   "display_name": "Python [conda env:pygms] *",
   "language": "python",
   "name": "conda-env-pygms-py"
  },
  "language_info": {
   "codemirror_mode": {
    "name": "ipython",
    "version": 3
   },
   "file_extension": ".py",
   "mimetype": "text/x-python",
   "name": "python",
   "nbconvert_exporter": "python",
   "pygments_lexer": "ipython3",
   "version": "3.7.3"
  }
 },
 "nbformat": 4,
 "nbformat_minor": 4
}
